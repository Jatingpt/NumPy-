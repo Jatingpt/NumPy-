{
  "nbformat": 4,
  "nbformat_minor": 0,
  "metadata": {
    "colab": {
      "provenance": [],
      "authorship_tag": "ABX9TyNUxWCzLKv3mI08XbupxO1t",
      "include_colab_link": true
    },
    "kernelspec": {
      "name": "python3",
      "display_name": "Python 3"
    },
    "language_info": {
      "name": "python"
    }
  },
  "cells": [
    {
      "cell_type": "markdown",
      "metadata": {
        "id": "view-in-github",
        "colab_type": "text"
      },
      "source": [
        "<a href=\"https://colab.research.google.com/github/Jatingpt/NumPy-/blob/main/NumPy.ipynb\" target=\"_parent\"><img src=\"https://colab.research.google.com/assets/colab-badge.svg\" alt=\"Open In Colab\"/></a>"
      ]
    },
    {
      "cell_type": "markdown",
      "source": [
        "#**Numpy**\n",
        "\n",
        "##NumPy stands for Numeric Python.\n",
        "##NumPy is a package that defines multidimensional array and assosiate fast math functions.\n",
        "##Also have the functions working on the domains like- Linear Algebra, Matrices, Sum etc.\n",
        "##In simple words it is the fundamental package for scientific computation."
      ],
      "metadata": {
        "id": "RpberTyI2HV8"
      }
    },
    {
      "cell_type": "markdown",
      "source": [
        "##**Advantages of NumPy.**\n",
        "##NumPy uses less memory to store the data.\n",
        "##Mathematical operations are faster.\n",
        "##Can create n-dimensional array.\n",
        "##Finding elements in NumPy array is easy."
      ],
      "metadata": {
        "id": "G5jNPQHT3Nqw"
      }
    },
    {
      "cell_type": "markdown",
      "source": [
        "##**Array-**: An array is defined as the collection of items that are stored at contiguous memory location.\n",
        "##It is a container which can store the fixed number of items of same type of data.\n",
        "\n",
        "##A combination of array saves a lot time and also can reduce the overall size of the code."
      ],
      "metadata": {
        "id": "8C6lcEEs3rDT"
      }
    },
    {
      "cell_type": "markdown",
      "source": [
        "##**Difference between List and Array.**\n",
        "\n",
        "##A list cannot handle the mathematical operations, while an Array can.\n",
        "\n",
        "##List can store more data as compare to an Array.\n",
        "\n",
        "##List can store the multiple types of data while an array can only store the same type of datas.\n",
        "\n",
        "##Functions and executions of code is faster in an Array as compare to a List.\n",
        "\n",
        "##A list is easier to modify e.g- Add, Delete than an Array."
      ],
      "metadata": {
        "id": "CYGhn0A-4gWN"
      }
    },
    {
      "cell_type": "markdown",
      "source": [
        "##Let's see some examples of a list and an Array with the difference."
      ],
      "metadata": {
        "id": "kjnym4pl5kMd"
      }
    },
    {
      "cell_type": "code",
      "source": [
        "l1 = [1, 2, 3, 4, 5, 6]\n",
        "l2 = [7, 8, 9, 10, 11]\n",
        "\n",
        "print(l1 + l2)         #Here the list is doing nothing but concanating two list."
      ],
      "metadata": {
        "colab": {
          "base_uri": "https://localhost:8080/"
        },
        "id": "DoTBDWeJ2K3r",
        "outputId": "b46d3058-f440-42d9-d895-9165c3b7a5de"
      },
      "execution_count": null,
      "outputs": [
        {
          "output_type": "stream",
          "name": "stdout",
          "text": [
            "[1, 2, 3, 4, 5, 6, 7, 8, 9, 10, 11]\n"
          ]
        }
      ]
    },
    {
      "cell_type": "code",
      "source": [
        "import numpy as np\n",
        "\n",
        "a = np.array([1, 2, 3, 4, 5])\n",
        "\n",
        "b = np.array([7, 8, 9, 10, 11])\n",
        "\n",
        "print(a)\n",
        "print(b)\n",
        "print()\n",
        "\n",
        "print(a+b)  #Here we can see that instead of concatenation numpy performed a mathematical operations with these two array.\n",
        "\n"
      ],
      "metadata": {
        "colab": {
          "base_uri": "https://localhost:8080/"
        },
        "id": "J0oxKmOO56B4",
        "outputId": "8f5bd12f-51b5-4167-f46c-544f13d615ac"
      },
      "execution_count": null,
      "outputs": [
        {
          "output_type": "stream",
          "name": "stdout",
          "text": [
            "[1 2 3 4 5]\n",
            "[ 7  8  9 10 11]\n",
            "\n",
            "[ 8 10 12 14 16]\n"
          ]
        }
      ]
    },
    {
      "cell_type": "markdown",
      "source": [
        "##**Creation, Indexing and Slicing of NumPy Arrays.**"
      ],
      "metadata": {
        "id": "_7fhIJC6681w"
      }
    },
    {
      "cell_type": "code",
      "source": [
        "import numpy as np\n",
        "\n",
        "#Creation\n",
        "\n",
        "#1-D Array.\n",
        "arr = np.array([1, 2, 3, 4, 5, 6, 7, 8, 9])\n",
        "print(arr)\n",
        "\n",
        "print()\n",
        "\n",
        "#2-D Array.\n",
        "arr2 = np.array([[1,2,3],[4,5,6]])\n",
        "print(arr2)"
      ],
      "metadata": {
        "colab": {
          "base_uri": "https://localhost:8080/"
        },
        "id": "KCYxMT6G6gXL",
        "outputId": "045e4c6c-60b4-4bb2-d795-95eeff0ad641"
      },
      "execution_count": null,
      "outputs": [
        {
          "output_type": "stream",
          "name": "stdout",
          "text": [
            "[1 2 3 4 5 6 7 8 9]\n",
            "\n",
            "[[1 2 3]\n",
            " [4 5 6]]\n"
          ]
        }
      ]
    },
    {
      "cell_type": "code",
      "source": [
        "#Slicing and indexing of an Array\n",
        "\n",
        "import numpy as np\n",
        "\n",
        "arr = np.array([1, 2, 3, 4, 5])\n",
        "print(arr)\n",
        "\n",
        "\n",
        "print(arr[0:4])\n",
        "\n",
        "print(arr[2:5])\n",
        "\n",
        "#In 2-D Array\n",
        "print()\n",
        "a = np.array([[1,2,3,4,5], [6,7,8,9,10]])\n",
        "print(a)\n",
        "\n",
        "print()\n",
        "print(a[0:2, 0:2])\n",
        "\n",
        "#If we only wants the element of the first index in the array a then,\n",
        "print()\n",
        "\n",
        "print(a[0,1:3]) #Here \"0\" is the index number and \"1:3\" is the slicing that we are performing.\n",
        "\n",
        "print()\n",
        "\n",
        "print(a[1,0:3])"
      ],
      "metadata": {
        "colab": {
          "base_uri": "https://localhost:8080/"
        },
        "id": "aiIKs5wG7Rd0",
        "outputId": "0ac1bafd-72c7-4451-acf6-62d2378b0cf3"
      },
      "execution_count": null,
      "outputs": [
        {
          "output_type": "stream",
          "name": "stdout",
          "text": [
            "[1 2 3 4 5]\n",
            "[1 2 3 4]\n",
            "[3 4 5]\n",
            "\n",
            "[[ 1  2  3  4  5]\n",
            " [ 6  7  8  9 10]]\n",
            "\n",
            "[[1 2]\n",
            " [6 7]]\n",
            "\n",
            "[2 3]\n",
            "\n",
            "[6 7 8]\n"
          ]
        }
      ]
    },
    {
      "cell_type": "markdown",
      "source": [
        "##**Attributes of an Array.**\n",
        "\n",
        "##There are some of the attributes of an Array which helps us to get the data and some information about the array.\n",
        "\n",
        "##Attributes of an Array- **(a.shape, a.size, a.dim, a.len, a.astype(int), b.dtype etc.)**"
      ],
      "metadata": {
        "id": "WkLzBFCN-Lmg"
      }
    },
    {
      "cell_type": "code",
      "source": [
        "#Attributes-\n",
        "\n",
        "arr = np.array([[1,2,3,4,5],[6,7,8,9,10]])\n",
        "print(arr)\n",
        "\n",
        "print(len(arr))\n",
        "print()\n",
        "print(arr.size)        #Gives number of elements in the array.\n",
        "print()\n",
        "print(arr.shape)       #Gives the dimentions of an array in the form of rows and columns.\n",
        "print()\n",
        "print(arr.astype)      #for the type of array that we have.\n",
        "print()\n",
        "print(arr.dtype)"
      ],
      "metadata": {
        "colab": {
          "base_uri": "https://localhost:8080/"
        },
        "id": "1b_-tc_l8PPz",
        "outputId": "28093872-48f4-4fd5-fda3-8016724d68ca"
      },
      "execution_count": null,
      "outputs": [
        {
          "output_type": "stream",
          "name": "stdout",
          "text": [
            "[[ 1  2  3  4  5]\n",
            " [ 6  7  8  9 10]]\n",
            "2\n",
            "\n",
            "10\n",
            "\n",
            "(2, 5)\n",
            "\n",
            "<built-in method astype of numpy.ndarray object at 0x7bab00057930>\n",
            "\n",
            "int64\n"
          ]
        }
      ]
    },
    {
      "cell_type": "markdown",
      "source": [
        "##**Mathematical functions and operations.**\n",
        "\n",
        "##Such as Subtraction, Addition, Multiplication etc."
      ],
      "metadata": {
        "id": "5XsEO0naNPPj"
      }
    },
    {
      "cell_type": "code",
      "source": [
        "import numpy as np"
      ],
      "metadata": {
        "id": "YYSwn9yR_HG2"
      },
      "execution_count": null,
      "outputs": []
    },
    {
      "cell_type": "code",
      "source": [
        "a = np.array([1,2,3,4,5])\n",
        "b = np.array([1,2,3,4,5])\n",
        "\n",
        "print(a+b)"
      ],
      "metadata": {
        "id": "Ln0KIXnpNjGD",
        "outputId": "45fcedff-f4c1-4a70-8b11-8fe756af5809",
        "colab": {
          "base_uri": "https://localhost:8080/"
        }
      },
      "execution_count": null,
      "outputs": [
        {
          "output_type": "stream",
          "name": "stdout",
          "text": [
            "[ 2  4  6  8 10]\n"
          ]
        }
      ]
    },
    {
      "cell_type": "code",
      "source": [
        "print(np.add(a,b))"
      ],
      "metadata": {
        "id": "3ok-D39ENwnG",
        "outputId": "c2cdefcb-157b-4c5e-f3bd-606bd46129d1",
        "colab": {
          "base_uri": "https://localhost:8080/"
        }
      },
      "execution_count": null,
      "outputs": [
        {
          "output_type": "stream",
          "name": "stdout",
          "text": [
            "[ 2  4  6  8 10]\n"
          ]
        }
      ]
    },
    {
      "cell_type": "code",
      "source": [
        "print(np.multiply(a,b))"
      ],
      "metadata": {
        "id": "kLskhPoIN9k3",
        "outputId": "ed9099eb-6f8a-40f8-8af4-bd5312dac4b6",
        "colab": {
          "base_uri": "https://localhost:8080/"
        }
      },
      "execution_count": null,
      "outputs": [
        {
          "output_type": "stream",
          "name": "stdout",
          "text": [
            "[ 1  4  9 16 25]\n"
          ]
        }
      ]
    },
    {
      "cell_type": "code",
      "source": [
        "print(np.subtract(a,b))"
      ],
      "metadata": {
        "id": "YuXqTWj8OFyY",
        "outputId": "6600dd03-9e9d-4b88-a4ad-affc5630ee3a",
        "colab": {
          "base_uri": "https://localhost:8080/"
        }
      },
      "execution_count": null,
      "outputs": [
        {
          "output_type": "stream",
          "name": "stdout",
          "text": [
            "[0 0 0 0 0]\n"
          ]
        }
      ]
    },
    {
      "cell_type": "code",
      "source": [
        "\n",
        "arr1 = np.array([[1,2],\n",
        "                 [3,4]])\n",
        "\n",
        "arr2 = np.array([[1,2],\n",
        "                 [3,4]])\n",
        "\n",
        "print(np.add(arr1,arr2))"
      ],
      "metadata": {
        "id": "PlnW2jx5OLkN",
        "outputId": "36937322-5cef-4b3b-d58a-65cc6f8f52cf",
        "colab": {
          "base_uri": "https://localhost:8080/"
        }
      },
      "execution_count": null,
      "outputs": [
        {
          "output_type": "stream",
          "name": "stdout",
          "text": [
            "[[2 4]\n",
            " [6 8]]\n"
          ]
        }
      ]
    },
    {
      "cell_type": "code",
      "source": [
        "print(np.subtract(arr1,arr2))"
      ],
      "metadata": {
        "id": "35cCZqTNOZyS"
      },
      "execution_count": null,
      "outputs": []
    },
    {
      "cell_type": "code",
      "source": [
        "print(np.multiply(arr1,arr2))"
      ],
      "metadata": {
        "id": "GdbS0rntPqEo",
        "outputId": "65ab9caa-6415-4e7a-f7eb-24394af27fd3",
        "colab": {
          "base_uri": "https://localhost:8080/"
        }
      },
      "execution_count": null,
      "outputs": [
        {
          "output_type": "stream",
          "name": "stdout",
          "text": [
            "[[ 1  4]\n",
            " [ 9 16]]\n"
          ]
        }
      ]
    },
    {
      "cell_type": "code",
      "source": [
        "a = np.array([1,2,3,4,5])\n",
        "b =np.array([2])\n",
        "\n",
        "print(np.power(a,b))"
      ],
      "metadata": {
        "id": "KhOuNLPDTiZe",
        "outputId": "61142412-9993-4dfd-825e-64283a9a82fc",
        "colab": {
          "base_uri": "https://localhost:8080/"
        }
      },
      "execution_count": null,
      "outputs": [
        {
          "output_type": "stream",
          "name": "stdout",
          "text": [
            "[ 1  4  9 16 25]\n"
          ]
        }
      ]
    },
    {
      "cell_type": "markdown",
      "source": [
        "##**Combining and spliting arrays.**"
      ],
      "metadata": {
        "id": "9EwBWhPIUDoS"
      }
    },
    {
      "cell_type": "code",
      "source": [
        "#In list.\n",
        "\n",
        "a = [23,45,53,53,23,56]\n",
        "b = [23,55,23,76,46,76]\n",
        "print(a+b)"
      ],
      "metadata": {
        "id": "Lftvxkp1T6y9",
        "outputId": "8610739d-4f39-4b7a-f848-cfa5aee984de",
        "colab": {
          "base_uri": "https://localhost:8080/"
        }
      },
      "execution_count": null,
      "outputs": [
        {
          "output_type": "stream",
          "name": "stdout",
          "text": [
            "[23, 45, 53, 53, 23, 56, 23, 55, 23, 76, 46, 76]\n"
          ]
        }
      ]
    },
    {
      "cell_type": "code",
      "source": [
        "#In array- Or can say that concatenation in numpy.\n",
        "a = np.array([23,45,53,53,23,56])\n",
        "b = np.array([23,55,23,76,46,76])\n",
        "\n",
        "print(np.concatenate([a,b]))"
      ],
      "metadata": {
        "id": "YlEnGsm_UpYY",
        "outputId": "54198191-23e7-4586-b9f5-81f27239bed0",
        "colab": {
          "base_uri": "https://localhost:8080/"
        }
      },
      "execution_count": null,
      "outputs": [
        {
          "output_type": "stream",
          "name": "stdout",
          "text": [
            "[23 45 53 53 23 56 23 55 23 76 46 76]\n"
          ]
        }
      ]
    },
    {
      "cell_type": "markdown",
      "source": [
        "##**In terms of axis.**"
      ],
      "metadata": {
        "id": "rEGUHU93WYLC"
      }
    },
    {
      "cell_type": "code",
      "source": [
        "arr1 = np.array([[1,2],\n",
        "                 [3,4]])\n",
        "\n",
        "arr2 = np.array([[1,2],\n",
        "                 [3,4]])\n",
        "\n",
        "print(np.concatenate([arr1,arr2], axis = 1))"
      ],
      "metadata": {
        "id": "xOci5JasWegc",
        "outputId": "5b74f371-d7a2-40e4-ac37-514d81dae8f5",
        "colab": {
          "base_uri": "https://localhost:8080/"
        }
      },
      "execution_count": null,
      "outputs": [
        {
          "output_type": "stream",
          "name": "stdout",
          "text": [
            "[[1 2 1 2]\n",
            " [3 4 3 4]]\n"
          ]
        }
      ]
    },
    {
      "cell_type": "markdown",
      "source": [
        "##**Or instead of giving axis as the parameter, we can also use the \"Stack\" method directly. e.g**"
      ],
      "metadata": {
        "id": "g-RgHOc4Wwqa"
      }
    },
    {
      "cell_type": "code",
      "source": [
        "arr1 = np.array([[1,2],\n",
        "                 [3,4]])\n",
        "\n",
        "arr2 = np.array([[1,2],\n",
        "                 [3,4]])\n",
        "print(np.hstack([arr1,arr2]))"
      ],
      "metadata": {
        "id": "JADohp4qXC7I",
        "outputId": "737522ec-1475-422b-84d4-1e36d3328131",
        "colab": {
          "base_uri": "https://localhost:8080/"
        }
      },
      "execution_count": null,
      "outputs": [
        {
          "output_type": "stream",
          "name": "stdout",
          "text": [
            "[[1 2 1 2]\n",
            " [3 4 3 4]]\n"
          ]
        }
      ]
    },
    {
      "cell_type": "code",
      "source": [
        "arr1 = np.array([[1,2],\n",
        "                 [3,4]])\n",
        "\n",
        "arr2 = np.array([[1,2],\n",
        "                 [3,4]])\n",
        "\n",
        "print(np.vstack([arr1,arr2]))"
      ],
      "metadata": {
        "id": "fUtemqwRXYei",
        "outputId": "f0c060f5-a32f-4912-da2d-7733c01b69e7",
        "colab": {
          "base_uri": "https://localhost:8080/"
        }
      },
      "execution_count": null,
      "outputs": [
        {
          "output_type": "stream",
          "name": "stdout",
          "text": [
            "[[1 2]\n",
            " [3 4]\n",
            " [1 2]\n",
            " [3 4]]\n"
          ]
        }
      ]
    },
    {
      "cell_type": "code",
      "source": [
        "\n",
        "arr1 = np.array([[1,2],\n",
        "                 [3,4]])\n",
        "\n",
        "arr2 = np.array([[1,2],\n",
        "                 [3,4]])\n",
        "\n",
        "print(np.concatenate([arr1,arr2]))"
      ],
      "metadata": {
        "id": "ET42Dr8JVGxH",
        "outputId": "f8d3caf8-0019-4cd8-cbbd-b493878c7ae6",
        "colab": {
          "base_uri": "https://localhost:8080/"
        }
      },
      "execution_count": null,
      "outputs": [
        {
          "output_type": "stream",
          "name": "stdout",
          "text": [
            "[[1 2]\n",
            " [3 4]\n",
            " [1 2]\n",
            " [3 4]]\n"
          ]
        }
      ]
    },
    {
      "cell_type": "markdown",
      "source": [
        "##**Spliting the values.**\n",
        "\n",
        "##We can split the values directly or with the help of assigning the variables."
      ],
      "metadata": {
        "id": "b2eS8jemWPnb"
      }
    },
    {
      "cell_type": "code",
      "source": [
        "a = [23,45,53,53,23,56]\n",
        "\n",
        "print(np.array_split(a,3))\n",
        "\n",
        "print()\n",
        "\n",
        "b = np.array_split(a,3)\n",
        "print(b)"
      ],
      "metadata": {
        "id": "HkL-U4HgWLxB",
        "colab": {
          "base_uri": "https://localhost:8080/"
        },
        "outputId": "17685d9d-7737-4dc8-9843-d54091c50b0e"
      },
      "execution_count": 29,
      "outputs": [
        {
          "output_type": "stream",
          "name": "stdout",
          "text": [
            "[array([23, 45]), array([53, 53]), array([23, 56])]\n",
            "\n",
            "[array([23, 45]), array([53, 53]), array([23, 56])]\n"
          ]
        }
      ]
    },
    {
      "cell_type": "markdown",
      "source": [
        "##**Adding and removing elements in the array.**\n",
        "\n",
        "##Here we are using Append, Insert and Delete method to do the operations.\n",
        "##Here we are doing the operation on the 1-D array. If we want operations on multiple array then we can do it by axis accrodingly."
      ],
      "metadata": {
        "id": "lChsaxbLaCeE"
      }
    },
    {
      "cell_type": "code",
      "source": [
        "a = [23,45,53,53,23,56]\n",
        "\n",
        "b = [23,55,23,76,46,76]\n",
        "\n",
        "print(np.append(a,b))\n",
        "\n",
        "print()\n",
        "\n",
        "print(np.insert(a,1,7))\n",
        "\n",
        "print()\n",
        "\n",
        "print(np.delete(a,1))"
      ],
      "metadata": {
        "colab": {
          "base_uri": "https://localhost:8080/"
        },
        "id": "6TtGA3WpaJqE",
        "outputId": "bfc918ee-3a66-4cc4-a97d-afdb8c497117"
      },
      "execution_count": 30,
      "outputs": [
        {
          "output_type": "stream",
          "name": "stdout",
          "text": [
            "[23 45 53 53 23 56 23 55 23 76 46 76]\n",
            "\n",
            "[23  7 45 53 53 23 56]\n",
            "\n",
            "[23 53 53 23 56]\n"
          ]
        }
      ]
    },
    {
      "cell_type": "markdown",
      "source": [
        "##Deleting or adding according to axis."
      ],
      "metadata": {
        "id": "9Mr0aglzboer"
      }
    },
    {
      "cell_type": "code",
      "source": [
        "a = np.array([[1,2],[3,4]])\n",
        "\n",
        "print(a)\n",
        "\n",
        "print()\n",
        "\n",
        "print(np.delete(a,1,axis = 0))\n",
        "\n",
        "print()\n",
        "\n",
        "print(np.delete(a,1,axis=1))"
      ],
      "metadata": {
        "colab": {
          "base_uri": "https://localhost:8080/"
        },
        "id": "BPOiskU0YkBq",
        "outputId": "61fccf09-847d-48bb-a34b-9c6865bd426b"
      },
      "execution_count": 37,
      "outputs": [
        {
          "output_type": "stream",
          "name": "stdout",
          "text": [
            "[[1 2]\n",
            " [3 4]]\n",
            "\n",
            "[[1 2]]\n",
            "\n",
            "[[1]\n",
            " [3]]\n"
          ]
        }
      ]
    },
    {
      "cell_type": "markdown",
      "source": [
        "##**Search, sorting and filtering of an array.**\n",
        "\n",
        "##**search-** Usually there is no functions of search in the numpy instead we can use \"Where\" Method to search anything in the array.\n",
        "\n",
        "##**Filter-** It will create a new array from the existing array by filtering the existing array with the help or \"True\", \"False\" values."
      ],
      "metadata": {
        "id": "WHQXHPHKciBO"
      }
    },
    {
      "cell_type": "code",
      "source": [
        "import numpy as np\n",
        "\n",
        "#sort\n",
        "\n",
        "ar = np.array([9,2,4,2,5,7,1])\n",
        "\n",
        "print(np.sort(ar))\n",
        "\n",
        "print()\n",
        "\n",
        "#search= where\n",
        "\n",
        "print(np.where(ar == 2)) #Here it will give you the indexing of all the elements that we are searching for.\n",
        "\n",
        "print()\n",
        "\n",
        "print(np.where(ar ==7))\n",
        "\n",
        "#Searchsorted\n",
        "\n",
        "ss = np.searchsorted(ar,7)     #Ck\n",
        "print(ss)\n",
        "\n",
        "print()\n",
        "#Filter- It will create a new array from the existing array.\n",
        "\n",
        "a = np.array([1,2,3,4])\n",
        "fa = [True, False, True, False]\n",
        "new = a[fa]\n",
        "print(new)\n",
        "\n",
        "print()\n",
        "\n",
        "ar = np.array([23,4,53,45])\n",
        "fa = [True,False,True,False]\n",
        "new_ar = ar[fa]\n",
        "print(new_ar)"
      ],
      "metadata": {
        "colab": {
          "base_uri": "https://localhost:8080/"
        },
        "id": "oEFXrNDJb7ZT",
        "outputId": "2d60d2fa-e890-47a1-c32c-d13796c0eeac"
      },
      "execution_count": 57,
      "outputs": [
        {
          "output_type": "stream",
          "name": "stdout",
          "text": [
            "[1 2 2 4 5 7 9]\n",
            "\n",
            "(array([1, 3]),)\n",
            "\n",
            "(array([5]),)\n",
            "5\n",
            "\n",
            "[1 3]\n",
            "\n",
            "[23 53]\n"
          ]
        }
      ]
    },
    {
      "cell_type": "markdown",
      "source": [
        "##**Aggregating functions in array.**\n",
        "\n",
        "##i.e- sum, min, max, cumsum(cumulative sum), cumprod(cumulative product).\n",
        "\n",
        "##**cumsum** is nothing but gives you a fabonacci series of the element.\n",
        "\n",
        "##**cumprod** will provide the cumulative product of all the previous elements."
      ],
      "metadata": {
        "id": "Hi98otaKh8YP"
      }
    },
    {
      "cell_type": "code",
      "source": [
        "import numpy as np\n",
        "#sum\n",
        "\n",
        "a = np.array([1,2,3,4,5])\n",
        "print(np.sum(a))\n",
        "\n",
        "#min\n",
        "print(np.min(a))\n",
        "\n",
        "#max\n",
        "print(np.max(a))\n",
        "\n",
        "#cumsum i.e cumulative sum of the array.\n",
        "print(np.cumsum(a))  #Basically cum sum is nothing but gives you a fabonacci series.\n",
        "\n",
        "#cumprod i.e cumalative product of the array.\n",
        "print(np.cumprod(a))"
      ],
      "metadata": {
        "colab": {
          "base_uri": "https://localhost:8080/"
        },
        "id": "kaTZgA-Sc4-W",
        "outputId": "11041c49-eb2b-4882-bcea-a21c0dbad4b6"
      },
      "execution_count": 64,
      "outputs": [
        {
          "output_type": "stream",
          "name": "stdout",
          "text": [
            "15\n",
            "1\n",
            "5\n",
            "[ 1  3  6 10 15]\n",
            "[  1   2   6  24 120]\n"
          ]
        }
      ]
    },
    {
      "cell_type": "code",
      "source": [
        "#Another example of the cumprod i.e cumulative product.\n",
        "\n",
        "a = [10,20,30,40]\n",
        "b = [1,2,3,4]\n",
        "\n",
        "price = np.array(a)\n",
        "quantity = np.array(b)\n",
        "\n",
        "print(price,quantity)\n",
        "\n",
        "print()\n",
        "\n",
        "#print(np.cumprod([price,quantity]))  #It is giving nothing but simply cumprod, so\n",
        "\n",
        "#print(np.cumprod([price,quantity],axis = 0)) #or also we can assign a variable to this code.\n",
        "\n",
        "c = np.cumprod([price,quantity],axis = 0)\n",
        "\n",
        "print(c)\n",
        "\n",
        "print()\n",
        "\n",
        "print(c[1].sum())         #if we want sum of the total then."
      ],
      "metadata": {
        "colab": {
          "base_uri": "https://localhost:8080/"
        },
        "id": "h7nvFFBrjykl",
        "outputId": "4cba2fdb-300c-4436-b9bf-11c9b2313ec0"
      },
      "execution_count": 81,
      "outputs": [
        {
          "output_type": "stream",
          "name": "stdout",
          "text": [
            "[10 20 30 40] [1 2 3 4]\n",
            "\n",
            "[[ 10  20  30  40]\n",
            " [ 10  40  90 160]]\n",
            "\n",
            "300\n"
          ]
        }
      ]
    },
    {
      "cell_type": "markdown",
      "source": [
        "##**Statistical functions in NumPy.**"
      ],
      "metadata": {
        "id": "PvGgzALsmxE4"
      }
    },
    {
      "cell_type": "code",
      "source": [
        "food_price = [10,20,30,40,50,60,60]\n",
        "a = np.array(food_price)\n",
        "print(np.mean(a))\n",
        "\n",
        "print(np.median(a))\n",
        "\n",
        "#print(np.mode(a)) error because numpy has no attribute as mode so, first we have to import stats library in python.\n",
        "\n",
        "import statistics as stats\n",
        "\n",
        "print(stats.mode(a))\n",
        "\n",
        "print(np.std(a))  #Notes about the standard deviation."
      ],
      "metadata": {
        "colab": {
          "base_uri": "https://localhost:8080/"
        },
        "id": "CDgq4MHsg21U",
        "outputId": "7e8f0fd7-d4ce-462b-a4ea-2053b73e9a40"
      },
      "execution_count": 92,
      "outputs": [
        {
          "output_type": "stream",
          "name": "stdout",
          "text": [
            "38.57142857142857\n",
            "40.0\n",
            "60\n",
            "18.070158058105026\n"
          ]
        }
      ]
    },
    {
      "cell_type": "markdown",
      "source": [
        "##If the Standard Deviation is greater means the data is far more than the mean value or vice versa.\n",
        "\n",
        "##**Notes- std gives or providing the difference between the mean value and the spread. If the spread is far from the mean value means there are many fluctuations coming and which is not good. So, if the spread is less so then the product is okay or fine.**"
      ],
      "metadata": {
        "id": "jsnTCGZSrdfX"
      }
    },
    {
      "cell_type": "markdown",
      "source": [
        "\n",
        "\n",
        "##**Co-Relation or Coefficiant of Co-Relation.**\n",
        "\n",
        "###(-1) = Represents the inversely or negative proportional relation.\n",
        "\n",
        "###+(1) Represents the directly proportional relation.\n",
        "\n",
        "###(0) Represent means no relation at all.\n",
        "\n",
        "##E.g, If the cunsumption of tobacco is increasing then death increases.\n"
      ],
      "metadata": {
        "id": "efd1AWPnsYMY"
      }
    },
    {
      "cell_type": "code",
      "source": [
        "tobacco_cunsumption = [10,20,30,40,50]\n",
        "num_of_death = [100,159,280,350,480]\n",
        "\n",
        "print(np.corrcoef([tobacco_cunsumption,num_of_death]))  #Strongly positive"
      ],
      "metadata": {
        "colab": {
          "base_uri": "https://localhost:8080/"
        },
        "id": "_An3GQiBqf0e",
        "outputId": "f8fd789c-2cf2-4de3-d169-d549402c47b5"
      },
      "execution_count": 94,
      "outputs": [
        {
          "output_type": "stream",
          "name": "stdout",
          "text": [
            "[[1.         0.99284241]\n",
            " [0.99284241 1.        ]]\n"
          ]
        }
      ]
    },
    {
      "cell_type": "code",
      "source": [
        "price = [10,20,30,40]\n",
        "sales = [39,28,18,8]\n",
        "\n",
        "print(np.corrcoef(price,sales))      #Strongly negative."
      ],
      "metadata": {
        "colab": {
          "base_uri": "https://localhost:8080/"
        },
        "id": "8-JJfNzvtmPq",
        "outputId": "93fa36d5-69eb-413e-b4c7-b089bf989262"
      },
      "execution_count": 98,
      "outputs": [
        {
          "output_type": "stream",
          "name": "stdout",
          "text": [
            "[[ 1.         -0.99971734]\n",
            " [-0.99971734  1.        ]]\n"
          ]
        }
      ]
    },
    {
      "cell_type": "markdown",
      "source": [
        "#                                 ----NumPy end-----"
      ],
      "metadata": {
        "id": "JN6W4hs9uMru"
      }
    },
    {
      "cell_type": "code",
      "source": [],
      "metadata": {
        "id": "Rn7oaRJ_uGJ7"
      },
      "execution_count": null,
      "outputs": []
    }
  ]
}