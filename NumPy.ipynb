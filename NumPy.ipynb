{
  "nbformat": 4,
  "nbformat_minor": 0,
  "metadata": {
    "colab": {
      "provenance": [],
      "authorship_tag": "ABX9TyPLTtzTh63s2ScnyM5bhPX1",
      "include_colab_link": true
    },
    "kernelspec": {
      "name": "python3",
      "display_name": "Python 3"
    },
    "language_info": {
      "name": "python"
    }
  },
  "cells": [
    {
      "cell_type": "markdown",
      "metadata": {
        "id": "view-in-github",
        "colab_type": "text"
      },
      "source": [
        "<a href=\"https://colab.research.google.com/github/Jatingpt/NumPy-/blob/main/NumPy.ipynb\" target=\"_parent\"><img src=\"https://colab.research.google.com/assets/colab-badge.svg\" alt=\"Open In Colab\"/></a>"
      ]
    },
    {
      "cell_type": "markdown",
      "source": [
        "#**Numpy**\n",
        "\n",
        "##NumPy stands for Numeric Python.\n",
        "##NumPy is a package that defines multidimensional array and assosiate fast math functions.\n",
        "##Also have the functions working on the domains like- Linear Algebra, Matrices, Sum etc.\n",
        "##In simple words it is the fundamental package for scientific computation."
      ],
      "metadata": {
        "id": "RpberTyI2HV8"
      }
    },
    {
      "cell_type": "markdown",
      "source": [
        "##**Advantages of NumPy.**\n",
        "##NumPy uses less memory to store the data.\n",
        "##Mathematical operations are faster.\n",
        "##Can create n-dimensional array.\n",
        "##Finding elements in NumPy array is easy."
      ],
      "metadata": {
        "id": "G5jNPQHT3Nqw"
      }
    },
    {
      "cell_type": "markdown",
      "source": [],
      "metadata": {
        "id": "8C6lcEEs3rDT"
      }
    },
    {
      "cell_type": "code",
      "source": [],
      "metadata": {
        "id": "DoTBDWeJ2K3r"
      },
      "execution_count": null,
      "outputs": []
    }
  ]
}