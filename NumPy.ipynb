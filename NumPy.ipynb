{
  "nbformat": 4,
  "nbformat_minor": 0,
  "metadata": {
    "colab": {
      "provenance": [],
      "authorship_tag": "ABX9TyN7mcOM4WPxxOi611TXtSIN",
      "include_colab_link": true
    },
    "kernelspec": {
      "name": "python3",
      "display_name": "Python 3"
    },
    "language_info": {
      "name": "python"
    }
  },
  "cells": [
    {
      "cell_type": "markdown",
      "metadata": {
        "id": "view-in-github",
        "colab_type": "text"
      },
      "source": [
        "<a href=\"https://colab.research.google.com/github/Jatingpt/NumPy-/blob/main/NumPy.ipynb\" target=\"_parent\"><img src=\"https://colab.research.google.com/assets/colab-badge.svg\" alt=\"Open In Colab\"/></a>"
      ]
    },
    {
      "cell_type": "markdown",
      "source": [
        "#**Numpy**\n",
        "\n",
        "##NumPy stands for Numeric Python.\n",
        "##NumPy is a package that defines multidimensional array and assosiate fast math functions.\n",
        "##Also have the functions working on the domains like- Linear Algebra, Matrices, Sum etc.\n",
        "##In simple words it is the fundamental package for scientific computation."
      ],
      "metadata": {
        "id": "RpberTyI2HV8"
      }
    },
    {
      "cell_type": "markdown",
      "source": [
        "##**Advantages of NumPy.**\n",
        "##NumPy uses less memory to store the data.\n",
        "##Mathematical operations are faster.\n",
        "##Can create n-dimensional array.\n",
        "##Finding elements in NumPy array is easy."
      ],
      "metadata": {
        "id": "G5jNPQHT3Nqw"
      }
    },
    {
      "cell_type": "markdown",
      "source": [
        "##**Array-**: An array is defined as the collection of items that are stored at contiguous memory location.\n",
        "##It is a container which can store the fixed number of items of same type of data.\n",
        "\n",
        "##A combination of array saves a lot time and also can reduce the overall size of the code."
      ],
      "metadata": {
        "id": "8C6lcEEs3rDT"
      }
    },
    {
      "cell_type": "markdown",
      "source": [
        "##**Difference between List and Array.**\n",
        "\n",
        "##A list cannot handle the mathematical operations, while an Array can.\n",
        "\n",
        "##List can store more data as compare to an Array.\n",
        "\n",
        "##List can store the multiple types of data while an array can only store the same type of datas.\n",
        "\n",
        "##Functions and executions of code is faster in an Array as compare to a List.\n",
        "\n",
        "##A list is easier to modify e.g- Add, Delete than an Array."
      ],
      "metadata": {
        "id": "CYGhn0A-4gWN"
      }
    },
    {
      "cell_type": "markdown",
      "source": [
        "##Let's see some examples of a list and an Array with the difference."
      ],
      "metadata": {
        "id": "kjnym4pl5kMd"
      }
    },
    {
      "cell_type": "code",
      "source": [
        "l1 = [1, 2, 3, 4, 5, 6]\n",
        "l2 = [7, 8, 9, 10, 11]\n",
        "\n",
        "print(l1 + l2)         #Here the list is doing nothing but concanating two list."
      ],
      "metadata": {
        "colab": {
          "base_uri": "https://localhost:8080/"
        },
        "id": "DoTBDWeJ2K3r",
        "outputId": "b46d3058-f440-42d9-d895-9165c3b7a5de"
      },
      "execution_count": null,
      "outputs": [
        {
          "output_type": "stream",
          "name": "stdout",
          "text": [
            "[1, 2, 3, 4, 5, 6, 7, 8, 9, 10, 11]\n"
          ]
        }
      ]
    },
    {
      "cell_type": "code",
      "source": [
        "import numpy as np\n",
        "\n",
        "a = np.array([1, 2, 3, 4, 5])\n",
        "\n",
        "b = np.array([7, 8, 9, 10, 11])\n",
        "\n",
        "print(a)\n",
        "print(b)\n",
        "print()\n",
        "\n",
        "print(a+b)  #Here we can see that instead of concatenation numpy performed a mathematical operations with these two array.\n",
        "\n"
      ],
      "metadata": {
        "colab": {
          "base_uri": "https://localhost:8080/"
        },
        "id": "J0oxKmOO56B4",
        "outputId": "8f5bd12f-51b5-4167-f46c-544f13d615ac"
      },
      "execution_count": null,
      "outputs": [
        {
          "output_type": "stream",
          "name": "stdout",
          "text": [
            "[1 2 3 4 5]\n",
            "[ 7  8  9 10 11]\n",
            "\n",
            "[ 8 10 12 14 16]\n"
          ]
        }
      ]
    },
    {
      "cell_type": "markdown",
      "source": [
        "##**Creation, Indexing and Slicing of NumPy Arrays.**"
      ],
      "metadata": {
        "id": "_7fhIJC6681w"
      }
    },
    {
      "cell_type": "code",
      "source": [
        "import numpy as np\n",
        "\n",
        "#Creation\n",
        "\n",
        "#1-D Array.\n",
        "arr = np.array([1, 2, 3, 4, 5, 6, 7, 8, 9])\n",
        "print(arr)\n",
        "\n",
        "print()\n",
        "\n",
        "#2-D Array.\n",
        "arr2 = np.array([[1,2,3],[4,5,6]])\n",
        "print(arr2)"
      ],
      "metadata": {
        "colab": {
          "base_uri": "https://localhost:8080/"
        },
        "id": "KCYxMT6G6gXL",
        "outputId": "045e4c6c-60b4-4bb2-d795-95eeff0ad641"
      },
      "execution_count": null,
      "outputs": [
        {
          "output_type": "stream",
          "name": "stdout",
          "text": [
            "[1 2 3 4 5 6 7 8 9]\n",
            "\n",
            "[[1 2 3]\n",
            " [4 5 6]]\n"
          ]
        }
      ]
    },
    {
      "cell_type": "code",
      "source": [
        "#Slicing and indexing of an Array\n",
        "\n",
        "import numpy as np\n",
        "\n",
        "arr = np.array([1, 2, 3, 4, 5])\n",
        "print(arr)\n",
        "\n",
        "\n",
        "print(arr[0:4])\n",
        "\n",
        "print(arr[2:5])\n",
        "\n",
        "#In 2-D Array\n",
        "print()\n",
        "a = np.array([[1,2,3,4,5], [6,7,8,9,10]])\n",
        "print(a)\n",
        "\n",
        "print()\n",
        "print(a[0:2, 0:2])\n",
        "\n",
        "#If we only wants the element of the first index in the array a then,\n",
        "print()\n",
        "\n",
        "print(a[0,1:3]) #Here \"0\" is the index number and \"1:3\" is the slicing that we are performing.\n",
        "\n",
        "print()\n",
        "\n",
        "print(a[1,0:3])"
      ],
      "metadata": {
        "colab": {
          "base_uri": "https://localhost:8080/"
        },
        "id": "aiIKs5wG7Rd0",
        "outputId": "0ac1bafd-72c7-4451-acf6-62d2378b0cf3"
      },
      "execution_count": null,
      "outputs": [
        {
          "output_type": "stream",
          "name": "stdout",
          "text": [
            "[1 2 3 4 5]\n",
            "[1 2 3 4]\n",
            "[3 4 5]\n",
            "\n",
            "[[ 1  2  3  4  5]\n",
            " [ 6  7  8  9 10]]\n",
            "\n",
            "[[1 2]\n",
            " [6 7]]\n",
            "\n",
            "[2 3]\n",
            "\n",
            "[6 7 8]\n"
          ]
        }
      ]
    },
    {
      "cell_type": "markdown",
      "source": [
        "##**Attributes of an Array.**\n",
        "\n",
        "##There are some of the attributes of an Array which helps us to get the data and some information about the array.\n",
        "\n",
        "##Attributes of an Array- **(a.shape, a.size, a.dim, a.len, a.astype(int), b.dtype etc.)**"
      ],
      "metadata": {
        "id": "WkLzBFCN-Lmg"
      }
    },
    {
      "cell_type": "code",
      "source": [
        "#Attributes-\n",
        "\n",
        "arr = np.array([[1,2,3,4,5],[6,7,8,9,10]])\n",
        "print(arr)\n",
        "\n",
        "print(len(arr))\n",
        "print()\n",
        "print(arr.size)        #Gives number of elements in the array.\n",
        "print()\n",
        "print(arr.shape)       #Gives the dimentions of an array in the form of rows and columns.\n",
        "print()\n",
        "print(arr.astype)      #for the type of array that we have.\n",
        "print()\n",
        "print(arr.dtype)"
      ],
      "metadata": {
        "colab": {
          "base_uri": "https://localhost:8080/"
        },
        "id": "1b_-tc_l8PPz",
        "outputId": "28093872-48f4-4fd5-fda3-8016724d68ca"
      },
      "execution_count": null,
      "outputs": [
        {
          "output_type": "stream",
          "name": "stdout",
          "text": [
            "[[ 1  2  3  4  5]\n",
            " [ 6  7  8  9 10]]\n",
            "2\n",
            "\n",
            "10\n",
            "\n",
            "(2, 5)\n",
            "\n",
            "<built-in method astype of numpy.ndarray object at 0x7bab00057930>\n",
            "\n",
            "int64\n"
          ]
        }
      ]
    },
    {
      "cell_type": "markdown",
      "source": [
        "##**Mathematical functions and operations.**\n",
        "\n",
        "##Such as Subtraction, Addition, Multiplication etc."
      ],
      "metadata": {
        "id": "5XsEO0naNPPj"
      }
    },
    {
      "cell_type": "code",
      "source": [
        "import numpy as np"
      ],
      "metadata": {
        "id": "YYSwn9yR_HG2"
      },
      "execution_count": 1,
      "outputs": []
    },
    {
      "cell_type": "code",
      "source": [
        "a = np.array([1,2,3,4,5])\n",
        "b = np.array([1,2,3,4,5])\n",
        "\n",
        "print(a+b)"
      ],
      "metadata": {
        "id": "Ln0KIXnpNjGD",
        "outputId": "45fcedff-f4c1-4a70-8b11-8fe756af5809",
        "colab": {
          "base_uri": "https://localhost:8080/"
        }
      },
      "execution_count": 3,
      "outputs": [
        {
          "output_type": "stream",
          "name": "stdout",
          "text": [
            "[ 2  4  6  8 10]\n"
          ]
        }
      ]
    },
    {
      "cell_type": "code",
      "source": [
        "print(np.add(a,b))"
      ],
      "metadata": {
        "id": "3ok-D39ENwnG",
        "outputId": "c2cdefcb-157b-4c5e-f3bd-606bd46129d1",
        "colab": {
          "base_uri": "https://localhost:8080/"
        }
      },
      "execution_count": 4,
      "outputs": [
        {
          "output_type": "stream",
          "name": "stdout",
          "text": [
            "[ 2  4  6  8 10]\n"
          ]
        }
      ]
    },
    {
      "cell_type": "code",
      "source": [
        "print(np.multiply(a,b))"
      ],
      "metadata": {
        "id": "kLskhPoIN9k3",
        "outputId": "ed9099eb-6f8a-40f8-8af4-bd5312dac4b6",
        "colab": {
          "base_uri": "https://localhost:8080/"
        }
      },
      "execution_count": 5,
      "outputs": [
        {
          "output_type": "stream",
          "name": "stdout",
          "text": [
            "[ 1  4  9 16 25]\n"
          ]
        }
      ]
    },
    {
      "cell_type": "code",
      "source": [
        "print(np.subtract(a,b))"
      ],
      "metadata": {
        "id": "YuXqTWj8OFyY",
        "outputId": "6600dd03-9e9d-4b88-a4ad-affc5630ee3a",
        "colab": {
          "base_uri": "https://localhost:8080/"
        }
      },
      "execution_count": 8,
      "outputs": [
        {
          "output_type": "stream",
          "name": "stdout",
          "text": [
            "[0 0 0 0 0]\n"
          ]
        }
      ]
    },
    {
      "cell_type": "code",
      "source": [
        "\n",
        "arr1 = np.array([[1,2],\n",
        "                 [3,4]])\n",
        "\n",
        "arr2 = np.array([[1,2],\n",
        "                 [3,4]])\n",
        "\n",
        "print(np.add(arr1,arr2))"
      ],
      "metadata": {
        "id": "PlnW2jx5OLkN",
        "outputId": "36937322-5cef-4b3b-d58a-65cc6f8f52cf",
        "colab": {
          "base_uri": "https://localhost:8080/"
        }
      },
      "execution_count": 14,
      "outputs": [
        {
          "output_type": "stream",
          "name": "stdout",
          "text": [
            "[[2 4]\n",
            " [6 8]]\n"
          ]
        }
      ]
    },
    {
      "cell_type": "code",
      "source": [
        "print(np.subtract(arr1,arr2))"
      ],
      "metadata": {
        "id": "35cCZqTNOZyS"
      },
      "execution_count": null,
      "outputs": []
    },
    {
      "cell_type": "code",
      "source": [
        "print(np.multiply(arr1,arr2))"
      ],
      "metadata": {
        "id": "GdbS0rntPqEo",
        "outputId": "65ab9caa-6415-4e7a-f7eb-24394af27fd3",
        "colab": {
          "base_uri": "https://localhost:8080/"
        }
      },
      "execution_count": 15,
      "outputs": [
        {
          "output_type": "stream",
          "name": "stdout",
          "text": [
            "[[ 1  4]\n",
            " [ 9 16]]\n"
          ]
        }
      ]
    },
    {
      "cell_type": "code",
      "source": [
        "a = np.array([1,2,3,4,5])\n",
        "b =np.array([2])\n",
        "\n",
        "print(np.power(a,b))"
      ],
      "metadata": {
        "id": "KhOuNLPDTiZe",
        "outputId": "61142412-9993-4dfd-825e-64283a9a82fc",
        "colab": {
          "base_uri": "https://localhost:8080/"
        }
      },
      "execution_count": 17,
      "outputs": [
        {
          "output_type": "stream",
          "name": "stdout",
          "text": [
            "[ 1  4  9 16 25]\n"
          ]
        }
      ]
    },
    {
      "cell_type": "markdown",
      "source": [
        "##**Combining and spliting arrays.**"
      ],
      "metadata": {
        "id": "9EwBWhPIUDoS"
      }
    },
    {
      "cell_type": "code",
      "source": [
        "#In list.\n",
        "\n",
        "a = [23,45,53,53,23,56]\n",
        "b = [23,55,23,76,46,76]\n",
        "print(a+b)"
      ],
      "metadata": {
        "id": "Lftvxkp1T6y9",
        "outputId": "8610739d-4f39-4b7a-f848-cfa5aee984de",
        "colab": {
          "base_uri": "https://localhost:8080/"
        }
      },
      "execution_count": 18,
      "outputs": [
        {
          "output_type": "stream",
          "name": "stdout",
          "text": [
            "[23, 45, 53, 53, 23, 56, 23, 55, 23, 76, 46, 76]\n"
          ]
        }
      ]
    },
    {
      "cell_type": "code",
      "source": [
        "#In array- Or can say that concatenation in numpy.\n",
        "a = np.array([23,45,53,53,23,56])\n",
        "b = np.array([23,55,23,76,46,76])\n",
        "\n",
        "print(np.concatenate([a,b]))"
      ],
      "metadata": {
        "id": "YlEnGsm_UpYY",
        "outputId": "54198191-23e7-4586-b9f5-81f27239bed0",
        "colab": {
          "base_uri": "https://localhost:8080/"
        }
      },
      "execution_count": 20,
      "outputs": [
        {
          "output_type": "stream",
          "name": "stdout",
          "text": [
            "[23 45 53 53 23 56 23 55 23 76 46 76]\n"
          ]
        }
      ]
    },
    {
      "cell_type": "markdown",
      "source": [
        "##**In terms of axis.**"
      ],
      "metadata": {
        "id": "rEGUHU93WYLC"
      }
    },
    {
      "cell_type": "code",
      "source": [
        "arr1 = np.array([[1,2],\n",
        "                 [3,4]])\n",
        "\n",
        "arr2 = np.array([[1,2],\n",
        "                 [3,4]])\n",
        "\n",
        "print(np.concatenate([arr1,arr2], axis = 1))"
      ],
      "metadata": {
        "id": "xOci5JasWegc",
        "outputId": "5b74f371-d7a2-40e4-ac37-514d81dae8f5",
        "colab": {
          "base_uri": "https://localhost:8080/"
        }
      },
      "execution_count": 23,
      "outputs": [
        {
          "output_type": "stream",
          "name": "stdout",
          "text": [
            "[[1 2 1 2]\n",
            " [3 4 3 4]]\n"
          ]
        }
      ]
    },
    {
      "cell_type": "markdown",
      "source": [
        "##**Or instead of giving axis as the parameter, we can also use the \"Stack\" method directly. e.g**"
      ],
      "metadata": {
        "id": "g-RgHOc4Wwqa"
      }
    },
    {
      "cell_type": "code",
      "source": [
        "arr1 = np.array([[1,2],\n",
        "                 [3,4]])\n",
        "\n",
        "arr2 = np.array([[1,2],\n",
        "                 [3,4]])\n",
        "print(np.hstack([arr1,arr2]))"
      ],
      "metadata": {
        "id": "JADohp4qXC7I",
        "outputId": "737522ec-1475-422b-84d4-1e36d3328131",
        "colab": {
          "base_uri": "https://localhost:8080/"
        }
      },
      "execution_count": 26,
      "outputs": [
        {
          "output_type": "stream",
          "name": "stdout",
          "text": [
            "[[1 2 1 2]\n",
            " [3 4 3 4]]\n"
          ]
        }
      ]
    },
    {
      "cell_type": "code",
      "source": [
        "arr1 = np.array([[1,2],\n",
        "                 [3,4]])\n",
        "\n",
        "arr2 = np.array([[1,2],\n",
        "                 [3,4]])\n",
        "\n",
        "print(np.vstack([arr1,arr2]))"
      ],
      "metadata": {
        "id": "fUtemqwRXYei",
        "outputId": "f0c060f5-a32f-4912-da2d-7733c01b69e7",
        "colab": {
          "base_uri": "https://localhost:8080/"
        }
      },
      "execution_count": 27,
      "outputs": [
        {
          "output_type": "stream",
          "name": "stdout",
          "text": [
            "[[1 2]\n",
            " [3 4]\n",
            " [1 2]\n",
            " [3 4]]\n"
          ]
        }
      ]
    },
    {
      "cell_type": "code",
      "source": [
        "\n",
        "arr1 = np.array([[1,2],\n",
        "                 [3,4]])\n",
        "\n",
        "arr2 = np.array([[1,2],\n",
        "                 [3,4]])\n",
        "\n",
        "print(np.concatenate([arr1,arr2]))"
      ],
      "metadata": {
        "id": "ET42Dr8JVGxH",
        "outputId": "f8d3caf8-0019-4cd8-cbbd-b493878c7ae6",
        "colab": {
          "base_uri": "https://localhost:8080/"
        }
      },
      "execution_count": 21,
      "outputs": [
        {
          "output_type": "stream",
          "name": "stdout",
          "text": [
            "[[1 2]\n",
            " [3 4]\n",
            " [1 2]\n",
            " [3 4]]\n"
          ]
        }
      ]
    },
    {
      "cell_type": "markdown",
      "source": [
        "##**Spliting the values.**"
      ],
      "metadata": {
        "id": "b2eS8jemWPnb"
      }
    },
    {
      "cell_type": "code",
      "source": [],
      "metadata": {
        "id": "HkL-U4HgWLxB"
      },
      "execution_count": null,
      "outputs": []
    }
  ]
}